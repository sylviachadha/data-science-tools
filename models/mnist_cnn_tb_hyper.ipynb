{
 "cells": [
  {
   "cell_type": "code",
   "execution_count": 1,
   "metadata": {
    "collapsed": true
   },
   "outputs": [],
   "source": [
    "# mnist dataset is already heavily preprocessed. Just scale & split\n",
    "# required."
   ]
  },
  {
   "cell_type": "code",
   "execution_count": 28,
   "outputs": [],
   "source": [
    "import matplotlib.pyplot as plt\n",
    "import numpy as np\n",
    "import tensorflow as tf  # for creation & training of nn\n",
    "import tensorflow_datasets as tfds   # to obtain mnist dataset\n",
    "from tensorboard.plugins.hparams import api as hp\n"
   ],
   "metadata": {
    "collapsed": false,
    "pycharm": {
     "name": "#%%\n"
    }
   }
  },
  {
   "cell_type": "markdown",
   "source": [
    "Downloading & Preprocessing data # this step has nothing to do with tensorboard"
   ],
   "metadata": {
    "collapsed": false,
    "pycharm": {
     "name": "#%% md\n"
    }
   }
  },
  {
   "cell_type": "code",
   "execution_count": 29,
   "outputs": [],
   "source": [
    "# Parameters to be used later on-\n",
    "BUFFER_SIZE = 70_000\n",
    "BATCH_SIZE = 128\n",
    "NUM_EPOCHS = 20"
   ],
   "metadata": {
    "collapsed": false,
    "pycharm": {
     "name": "#%%\n"
    }
   }
  },
  {
   "cell_type": "code",
   "execution_count": 30,
   "outputs": [],
   "source": [
    "mnist_dataset, mnist_info = tfds.load(name = 'mnist', with_info=True, as_supervised=True)"
   ],
   "metadata": {
    "collapsed": false,
    "pycharm": {
     "name": "#%%\n"
    }
   }
  },
  {
   "cell_type": "code",
   "execution_count": 31,
   "outputs": [],
   "source": [
    "mnist_train, mnist_test = mnist_dataset['train'],mnist_dataset['test']"
   ],
   "metadata": {
    "collapsed": false,
    "pycharm": {
     "name": "#%%\n"
    }
   }
  },
  {
   "cell_type": "code",
   "execution_count": 32,
   "outputs": [],
   "source": [
    "# In ML we like no's that are standardised in some way. So  technique in images is to scale pixel values b/w 0 and 1 which originally would be b/w 0 and 255 for greyscale.\n",
    "# Divide all pixels in dataset by 255, so value will be b/w 0 & 1."
   ],
   "metadata": {
    "collapsed": false,
    "pycharm": {
     "name": "#%%\n"
    }
   }
  },
  {
   "cell_type": "code",
   "execution_count": 33,
   "outputs": [
    {
     "data": {
      "text/plain": "<PrefetchDataset shapes: ((28, 28, 1), ()), types: (tf.uint8, tf.int64)>"
     },
     "execution_count": 33,
     "metadata": {},
     "output_type": "execute_result"
    }
   ],
   "source": [
    "mnist_train"
   ],
   "metadata": {
    "collapsed": false,
    "pycharm": {
     "name": "#%%\n"
    }
   }
  },
  {
   "cell_type": "code",
   "execution_count": 34,
   "outputs": [
    {
     "data": {
      "text/plain": "<PrefetchDataset shapes: ((28, 28, 1), ()), types: (tf.uint8, tf.int64)>"
     },
     "execution_count": 34,
     "metadata": {},
     "output_type": "execute_result"
    }
   ],
   "source": [
    "mnist_test"
   ],
   "metadata": {
    "collapsed": false,
    "pycharm": {
     "name": "#%%\n"
    }
   }
  },
  {
   "cell_type": "code",
   "execution_count": 35,
   "outputs": [],
   "source": [
    "def scale(image, label):\n",
    "    image = tf.cast(image,tf.float32)\n",
    "    image /= 255.\n",
    "\n",
    "    return image, label"
   ],
   "metadata": {
    "collapsed": false,
    "pycharm": {
     "name": "#%%\n"
    }
   }
  },
  {
   "cell_type": "code",
   "execution_count": 36,
   "outputs": [],
   "source": [
    "# Scale every image in train and test dataset\n",
    "train_and_validation_data = mnist_train.map(scale)\n",
    "test_data = mnist_test.map(scale)"
   ],
   "metadata": {
    "collapsed": false,
    "pycharm": {
     "name": "#%%\n"
    }
   }
  },
  {
   "cell_type": "code",
   "execution_count": 37,
   "outputs": [],
   "source": [
    "# Validation set is crucial to prevent overfitting using early stopping\n",
    "# Split training set manually to create a validation set (10% of\n",
    "# training set)"
   ],
   "metadata": {
    "collapsed": false,
    "pycharm": {
     "name": "#%%\n"
    }
   }
  },
  {
   "cell_type": "code",
   "execution_count": 38,
   "outputs": [
    {
     "data": {
      "text/plain": "60000"
     },
     "execution_count": 38,
     "metadata": {},
     "output_type": "execute_result"
    }
   ],
   "source": [
    "mnist_info.splits['train'].num_examples"
   ],
   "metadata": {
    "collapsed": false,
    "pycharm": {
     "name": "#%%\n"
    }
   }
  },
  {
   "cell_type": "code",
   "execution_count": 39,
   "outputs": [
    {
     "data": {
      "text/plain": "10000"
     },
     "execution_count": 39,
     "metadata": {},
     "output_type": "execute_result"
    }
   ],
   "source": [
    "mnist_info.splits['test'].num_examples"
   ],
   "metadata": {
    "collapsed": false,
    "pycharm": {
     "name": "#%%\n"
    }
   }
  },
  {
   "cell_type": "code",
   "execution_count": 40,
   "outputs": [],
   "source": [
    "num_validation_samples = 0.1 * mnist_info.splits['train'].num_examples"
   ],
   "metadata": {
    "collapsed": false,
    "pycharm": {
     "name": "#%%\n"
    }
   }
  },
  {
   "cell_type": "code",
   "execution_count": 41,
   "outputs": [
    {
     "data": {
      "text/plain": "6000.0"
     },
     "execution_count": 41,
     "metadata": {},
     "output_type": "execute_result"
    }
   ],
   "source": [
    "num_validation_samples"
   ],
   "metadata": {
    "collapsed": false,
    "pycharm": {
     "name": "#%%\n"
    }
   }
  },
  {
   "cell_type": "code",
   "execution_count": 42,
   "outputs": [],
   "source": [
    "num_validation_samples = tf.cast(num_validation_samples, tf.int64)"
   ],
   "metadata": {
    "collapsed": false,
    "pycharm": {
     "name": "#%%\n"
    }
   }
  },
  {
   "cell_type": "code",
   "execution_count": 43,
   "outputs": [],
   "source": [
    "# we need validation set to contain data with same distribution as training data"
   ],
   "metadata": {
    "collapsed": false,
    "pycharm": {
     "name": "#%%\n"
    }
   }
  },
  {
   "cell_type": "code",
   "execution_count": 44,
   "outputs": [],
   "source": [
    "train_and_validation_data = train_and_validation_data.shuffle(BUFFER_SIZE)"
   ],
   "metadata": {
    "collapsed": false,
    "pycharm": {
     "name": "#%%\n"
    }
   }
  },
  {
   "cell_type": "code",
   "execution_count": 45,
   "outputs": [],
   "source": [
    "train_data = train_and_validation_data.skip(num_validation_samples)\n",
    "validation_data = train_and_validation_data.take(num_validation_samples)"
   ],
   "metadata": {
    "collapsed": false,
    "pycharm": {
     "name": "#%%\n"
    }
   }
  },
  {
   "cell_type": "code",
   "execution_count": 46,
   "outputs": [],
   "source": [
    "# Test Data\n",
    "num_test_samples = mnist_info.splits['test'].num_examples"
   ],
   "metadata": {
    "collapsed": false,
    "pycharm": {
     "name": "#%%\n"
    }
   }
  },
  {
   "cell_type": "code",
   "execution_count": 47,
   "outputs": [],
   "source": [
    "num_test_samples = tf.cast(num_test_samples, tf.int64)"
   ],
   "metadata": {
    "collapsed": false,
    "pycharm": {
     "name": "#%%\n"
    }
   }
  },
  {
   "cell_type": "code",
   "execution_count": 48,
   "outputs": [
    {
     "data": {
      "text/plain": "<tf.Tensor: shape=(), dtype=int64, numpy=10000>"
     },
     "execution_count": 48,
     "metadata": {},
     "output_type": "execute_result"
    }
   ],
   "source": [
    "num_test_samples"
   ],
   "metadata": {
    "collapsed": false,
    "pycharm": {
     "name": "#%%\n"
    }
   }
  },
  {
   "cell_type": "code",
   "execution_count": 49,
   "outputs": [],
   "source": [
    "# batch dataset for optimal performance of network\n",
    "# batch size generally recommended in power of 2 (32,64,128) etc\n",
    "\n",
    "# validation & test sets not necessarily be batched as we do not\n",
    "# backward propagate on them however model expects them to be batched to get proper dimensions."
   ],
   "metadata": {
    "collapsed": false,
    "pycharm": {
     "name": "#%%\n"
    }
   }
  },
  {
   "cell_type": "code",
   "execution_count": 50,
   "outputs": [],
   "source": [
    "train_data = train_data.batch(BATCH_SIZE)\n",
    "\n",
    "validation_data = validation_data.batch(num_validation_samples)\n",
    "test_data = test_data.batch(num_test_samples)"
   ],
   "metadata": {
    "collapsed": false,
    "pycharm": {
     "name": "#%%\n"
    }
   }
  },
  {
   "cell_type": "markdown",
   "source": [
    "Defining Hyperparameters"
   ],
   "metadata": {
    "collapsed": false,
    "pycharm": {
     "name": "#%% md\n"
    }
   }
  },
  {
   "cell_type": "code",
   "execution_count": 51,
   "outputs": [],
   "source": [
    "# we want to tune 2 hyperparameters\n",
    "# 1. kernel size (3*3, 5*5, 7*7)\n",
    "# 2. optimizer (ADAM/SGD)"
   ],
   "metadata": {
    "collapsed": false,
    "pycharm": {
     "name": "#%%\n"
    }
   }
  },
  {
   "cell_type": "code",
   "execution_count": 52,
   "outputs": [],
   "source": [
    "# 6 combinations so 6 times model need to be trained\n",
    "\n",
    "HP_FILTER_SIZE = hp.HParam('filter_size', hp.Discrete([3,5,7]))\n",
    "HP_OPTIMIZER = hp.HParam('optimizer', hp.Discrete(['adam', 'sgd']))\n",
    "\n",
    "METRIC_ACCURACY = 'accuracy'\n",
    "\n",
    "with tf.summary.create_file_writer('logs/hparam_tuning').as_default():\n",
    "    hp.hparams_config(\n",
    "        hparams=[HP_FILTER_SIZE,HP_OPTIMIZER],\n",
    "        metrics=[hp.Metric(METRIC_ACCURACY, display_name='Accuracy')],\n",
    "    )"
   ],
   "metadata": {
    "collapsed": false,
    "pycharm": {
     "name": "#%%\n"
    }
   }
  },
  {
   "cell_type": "markdown",
   "source": [
    "Build, Train and Test Network"
   ],
   "metadata": {
    "collapsed": false,
    "pycharm": {
     "name": "#%% md\n"
    }
   }
  },
  {
   "cell_type": "code",
   "execution_count": 53,
   "outputs": [],
   "source": [
    "# Define configuration of n/w\n",
    "# Compile model\n",
    "# Fit model on training data"
   ],
   "metadata": {
    "collapsed": false,
    "pycharm": {
     "name": "#%%\n"
    }
   }
  },
  {
   "cell_type": "code",
   "execution_count": 54,
   "outputs": [],
   "source": [
    "def train_test_model(hparams):\n",
    "    model = tf.keras.Sequential([\n",
    "    tf.keras.layers.Conv2D(50,hparams[HP_FILTER_SIZE],activation='relu', input_shape=(28,28,1)),\n",
    "    tf.keras.layers.MaxPooling2D(pool_size=(2,2)),\n",
    "    tf.keras.layers.Conv2D(50,hparams[HP_FILTER_SIZE],activation='relu'),\n",
    "    tf.keras.layers.MaxPooling2D(pool_size=(2,2)),\n",
    "    tf.keras.layers.Flatten(),\n",
    "    tf.keras.layers.Dense(10)\n",
    "    ])\n",
    "    loss_fn = tf.keras.losses.SparseCategoricalCrossentropy(from_logits = True)\n",
    "    model.compile(optimizer=hparams[HP_OPTIMIZER], loss=loss_fn, metrics=['accuracy'])\n",
    "\n",
    "    early_stopping = tf.keras.callbacks.EarlyStopping(\n",
    "    monitor = 'val_loss',\n",
    "    mode = 'auto',\n",
    "    min_delta = 0,\n",
    "    patience = 2,\n",
    "    verbose = 0,\n",
    "    restore_best_weights = True\n",
    "    )\n",
    "    model.fit(\n",
    "    train_data,\n",
    "    epochs = NUM_EPOCHS,\n",
    "    # earlystopping callback should always be last element of list\n",
    "    callbacks = [early_stopping],\n",
    "    validation_data = validation_data,\n",
    "    verbose = 2 # print info at end of each epoch\n",
    "    )\n",
    "    _, accuracy = model.evaluate(test_data)\n",
    "\n",
    "    return accuracy"
   ],
   "metadata": {
    "collapsed": false,
    "pycharm": {
     "name": "#%%\n"
    }
   }
  },
  {
   "cell_type": "code",
   "execution_count": 55,
   "outputs": [],
   "source": [
    "def run(log_dir, hparams):\n",
    "\n",
    "    with tf.summary.create_file_writer(log_dir).as_default():\n",
    "        hp.hparams(hparams) # record values used in this trial\n",
    "        accuracy = train_test_model(hparams)\n",
    "        tf.summary.scalar(METRIC_ACCURACY, accuracy, step=1)"
   ],
   "metadata": {
    "collapsed": false,
    "pycharm": {
     "name": "#%%\n"
    }
   }
  },
  {
   "cell_type": "code",
   "execution_count": 56,
   "outputs": [
    {
     "name": "stdout",
     "output_type": "stream",
     "text": [
      "--- Starting trial: run-0\n",
      "{'filter_size': 3, 'optimizer': 'adam'}\n",
      "Epoch 1/20\n",
      "422/422 - 21s - loss: 0.2863 - accuracy: 0.9191 - val_loss: 0.0956 - val_accuracy: 0.9717 - 21s/epoch - 49ms/step\n",
      "Epoch 2/20\n",
      "422/422 - 20s - loss: 0.0765 - accuracy: 0.9774 - val_loss: 0.0487 - val_accuracy: 0.9862 - 20s/epoch - 48ms/step\n",
      "Epoch 3/20\n",
      "422/422 - 20s - loss: 0.0543 - accuracy: 0.9833 - val_loss: 0.0428 - val_accuracy: 0.9875 - 20s/epoch - 48ms/step\n",
      "Epoch 4/20\n",
      "422/422 - 20s - loss: 0.0456 - accuracy: 0.9862 - val_loss: 0.0401 - val_accuracy: 0.9873 - 20s/epoch - 48ms/step\n",
      "Epoch 5/20\n",
      "422/422 - 20s - loss: 0.0382 - accuracy: 0.9888 - val_loss: 0.0335 - val_accuracy: 0.9908 - 20s/epoch - 48ms/step\n",
      "Epoch 6/20\n",
      "422/422 - 21s - loss: 0.0323 - accuracy: 0.9903 - val_loss: 0.0330 - val_accuracy: 0.9898 - 21s/epoch - 49ms/step\n",
      "Epoch 7/20\n",
      "422/422 - 21s - loss: 0.0290 - accuracy: 0.9912 - val_loss: 0.0243 - val_accuracy: 0.9923 - 21s/epoch - 49ms/step\n",
      "Epoch 8/20\n",
      "422/422 - 21s - loss: 0.0262 - accuracy: 0.9921 - val_loss: 0.0196 - val_accuracy: 0.9943 - 21s/epoch - 49ms/step\n",
      "Epoch 9/20\n",
      "422/422 - 21s - loss: 0.0242 - accuracy: 0.9926 - val_loss: 0.0222 - val_accuracy: 0.9922 - 21s/epoch - 49ms/step\n",
      "Epoch 10/20\n",
      "422/422 - 20s - loss: 0.0206 - accuracy: 0.9933 - val_loss: 0.0143 - val_accuracy: 0.9958 - 20s/epoch - 48ms/step\n",
      "Epoch 11/20\n",
      "422/422 - 20s - loss: 0.0175 - accuracy: 0.9943 - val_loss: 0.0108 - val_accuracy: 0.9972 - 20s/epoch - 48ms/step\n",
      "Epoch 12/20\n",
      "422/422 - 20s - loss: 0.0168 - accuracy: 0.9948 - val_loss: 0.0145 - val_accuracy: 0.9960 - 20s/epoch - 49ms/step\n",
      "Epoch 13/20\n",
      "422/422 - 20s - loss: 0.0150 - accuracy: 0.9953 - val_loss: 0.0141 - val_accuracy: 0.9960 - 20s/epoch - 47ms/step\n",
      "1/1 [==============================] - 1s 824ms/step - loss: 0.0328 - accuracy: 0.9896\n",
      "--- Starting trial: run-1\n",
      "{'filter_size': 3, 'optimizer': 'sgd'}\n",
      "Epoch 1/20\n",
      "422/422 - 20s - loss: 1.4833 - accuracy: 0.6187 - val_loss: 0.4991 - val_accuracy: 0.8643 - 20s/epoch - 48ms/step\n",
      "Epoch 2/20\n",
      "422/422 - 20s - loss: 0.3912 - accuracy: 0.8863 - val_loss: 0.3249 - val_accuracy: 0.9043 - 20s/epoch - 46ms/step\n",
      "Epoch 3/20\n",
      "422/422 - 20s - loss: 0.2920 - accuracy: 0.9144 - val_loss: 0.2630 - val_accuracy: 0.9185 - 20s/epoch - 46ms/step\n",
      "Epoch 4/20\n",
      "422/422 - 20s - loss: 0.2420 - accuracy: 0.9283 - val_loss: 0.2239 - val_accuracy: 0.9355 - 20s/epoch - 47ms/step\n",
      "Epoch 5/20\n",
      "422/422 - 20s - loss: 0.2064 - accuracy: 0.9395 - val_loss: 0.1851 - val_accuracy: 0.9463 - 20s/epoch - 46ms/step\n",
      "Epoch 6/20\n",
      "422/422 - 20s - loss: 0.1769 - accuracy: 0.9484 - val_loss: 0.1767 - val_accuracy: 0.9477 - 20s/epoch - 47ms/step\n",
      "Epoch 7/20\n",
      "422/422 - 20s - loss: 0.1582 - accuracy: 0.9541 - val_loss: 0.1511 - val_accuracy: 0.9535 - 20s/epoch - 47ms/step\n",
      "Epoch 8/20\n",
      "422/422 - 20s - loss: 0.1434 - accuracy: 0.9583 - val_loss: 0.1309 - val_accuracy: 0.9642 - 20s/epoch - 47ms/step\n",
      "Epoch 9/20\n",
      "422/422 - 20s - loss: 0.1310 - accuracy: 0.9614 - val_loss: 0.1286 - val_accuracy: 0.9628 - 20s/epoch - 48ms/step\n",
      "Epoch 10/20\n",
      "422/422 - 20s - loss: 0.1231 - accuracy: 0.9634 - val_loss: 0.1130 - val_accuracy: 0.9685 - 20s/epoch - 48ms/step\n",
      "Epoch 11/20\n",
      "422/422 - 20s - loss: 0.1154 - accuracy: 0.9661 - val_loss: 0.1067 - val_accuracy: 0.9710 - 20s/epoch - 47ms/step\n",
      "Epoch 12/20\n",
      "422/422 - 20s - loss: 0.1100 - accuracy: 0.9676 - val_loss: 0.1047 - val_accuracy: 0.9678 - 20s/epoch - 47ms/step\n",
      "Epoch 13/20\n",
      "422/422 - 20s - loss: 0.1042 - accuracy: 0.9690 - val_loss: 0.0958 - val_accuracy: 0.9722 - 20s/epoch - 48ms/step\n",
      "Epoch 14/20\n",
      "422/422 - 20s - loss: 0.0988 - accuracy: 0.9704 - val_loss: 0.0958 - val_accuracy: 0.9718 - 20s/epoch - 46ms/step\n",
      "Epoch 15/20\n",
      "422/422 - 20s - loss: 0.0945 - accuracy: 0.9719 - val_loss: 0.0900 - val_accuracy: 0.9705 - 20s/epoch - 46ms/step\n",
      "Epoch 16/20\n",
      "422/422 - 20s - loss: 0.0919 - accuracy: 0.9724 - val_loss: 0.0879 - val_accuracy: 0.9762 - 20s/epoch - 46ms/step\n",
      "Epoch 17/20\n",
      "422/422 - 20s - loss: 0.0879 - accuracy: 0.9737 - val_loss: 0.0811 - val_accuracy: 0.9743 - 20s/epoch - 46ms/step\n",
      "Epoch 18/20\n",
      "422/422 - 20s - loss: 0.0849 - accuracy: 0.9749 - val_loss: 0.0721 - val_accuracy: 0.9797 - 20s/epoch - 46ms/step\n",
      "Epoch 19/20\n",
      "422/422 - 20s - loss: 0.0828 - accuracy: 0.9754 - val_loss: 0.0774 - val_accuracy: 0.9773 - 20s/epoch - 47ms/step\n",
      "Epoch 20/20\n",
      "422/422 - 20s - loss: 0.0790 - accuracy: 0.9764 - val_loss: 0.0816 - val_accuracy: 0.9778 - 20s/epoch - 47ms/step\n",
      "1/1 [==============================] - 1s 745ms/step - loss: 0.0738 - accuracy: 0.9761\n",
      "--- Starting trial: run-2\n",
      "{'filter_size': 5, 'optimizer': 'adam'}\n",
      "Epoch 1/20\n",
      "422/422 - 22s - loss: 0.2370 - accuracy: 0.9327 - val_loss: 0.0786 - val_accuracy: 0.9770 - 22s/epoch - 51ms/step\n",
      "Epoch 2/20\n",
      "422/422 - 22s - loss: 0.0690 - accuracy: 0.9793 - val_loss: 0.0602 - val_accuracy: 0.9817 - 22s/epoch - 51ms/step\n",
      "Epoch 3/20\n",
      "422/422 - 21s - loss: 0.0487 - accuracy: 0.9850 - val_loss: 0.0394 - val_accuracy: 0.9878 - 21s/epoch - 50ms/step\n",
      "Epoch 4/20\n",
      "422/422 - 21s - loss: 0.0398 - accuracy: 0.9878 - val_loss: 0.0259 - val_accuracy: 0.9923 - 21s/epoch - 50ms/step\n",
      "Epoch 5/20\n",
      "422/422 - 21s - loss: 0.0317 - accuracy: 0.9896 - val_loss: 0.0261 - val_accuracy: 0.9933 - 21s/epoch - 50ms/step\n",
      "Epoch 6/20\n",
      "422/422 - 21s - loss: 0.0269 - accuracy: 0.9916 - val_loss: 0.0183 - val_accuracy: 0.9940 - 21s/epoch - 50ms/step\n",
      "Epoch 7/20\n",
      "422/422 - 21s - loss: 0.0232 - accuracy: 0.9925 - val_loss: 0.0168 - val_accuracy: 0.9942 - 21s/epoch - 50ms/step\n",
      "Epoch 8/20\n",
      "422/422 - 21s - loss: 0.0201 - accuracy: 0.9940 - val_loss: 0.0146 - val_accuracy: 0.9957 - 21s/epoch - 50ms/step\n",
      "Epoch 9/20\n",
      "422/422 - 21s - loss: 0.0165 - accuracy: 0.9946 - val_loss: 0.0163 - val_accuracy: 0.9943 - 21s/epoch - 50ms/step\n",
      "Epoch 10/20\n",
      "422/422 - 21s - loss: 0.0151 - accuracy: 0.9954 - val_loss: 0.0166 - val_accuracy: 0.9943 - 21s/epoch - 50ms/step\n",
      "1/1 [==============================] - 1s 791ms/step - loss: 0.0268 - accuracy: 0.9919\n",
      "--- Starting trial: run-3\n",
      "{'filter_size': 5, 'optimizer': 'sgd'}\n",
      "Epoch 1/20\n",
      "422/422 - 21s - loss: 1.1503 - accuracy: 0.6992 - val_loss: 0.4070 - val_accuracy: 0.8803 - 21s/epoch - 51ms/step\n",
      "Epoch 2/20\n",
      "422/422 - 21s - loss: 0.3261 - accuracy: 0.9041 - val_loss: 0.2510 - val_accuracy: 0.9262 - 21s/epoch - 50ms/step\n",
      "Epoch 3/20\n",
      "422/422 - 21s - loss: 0.2438 - accuracy: 0.9276 - val_loss: 0.2201 - val_accuracy: 0.9340 - 21s/epoch - 50ms/step\n",
      "Epoch 4/20\n",
      "422/422 - 21s - loss: 0.1998 - accuracy: 0.9406 - val_loss: 0.1782 - val_accuracy: 0.9450 - 21s/epoch - 50ms/step\n",
      "Epoch 5/20\n",
      "422/422 - 21s - loss: 0.1691 - accuracy: 0.9505 - val_loss: 0.1489 - val_accuracy: 0.9567 - 21s/epoch - 50ms/step\n",
      "Epoch 6/20\n",
      "422/422 - 21s - loss: 0.1463 - accuracy: 0.9574 - val_loss: 0.1512 - val_accuracy: 0.9578 - 21s/epoch - 50ms/step\n",
      "Epoch 7/20\n",
      "422/422 - 21s - loss: 0.1315 - accuracy: 0.9616 - val_loss: 0.1097 - val_accuracy: 0.9690 - 21s/epoch - 50ms/step\n",
      "Epoch 8/20\n",
      "422/422 - 21s - loss: 0.1184 - accuracy: 0.9658 - val_loss: 0.1184 - val_accuracy: 0.9658 - 21s/epoch - 50ms/step\n",
      "Epoch 9/20\n",
      "422/422 - 21s - loss: 0.1101 - accuracy: 0.9674 - val_loss: 0.1063 - val_accuracy: 0.9693 - 21s/epoch - 50ms/step\n",
      "Epoch 10/20\n",
      "422/422 - 21s - loss: 0.1044 - accuracy: 0.9692 - val_loss: 0.0982 - val_accuracy: 0.9718 - 21s/epoch - 50ms/step\n",
      "Epoch 11/20\n",
      "422/422 - 21s - loss: 0.0972 - accuracy: 0.9714 - val_loss: 0.0880 - val_accuracy: 0.9725 - 21s/epoch - 50ms/step\n",
      "Epoch 12/20\n",
      "422/422 - 21s - loss: 0.0905 - accuracy: 0.9730 - val_loss: 0.0981 - val_accuracy: 0.9708 - 21s/epoch - 50ms/step\n",
      "Epoch 13/20\n",
      "422/422 - 21s - loss: 0.0856 - accuracy: 0.9750 - val_loss: 0.0795 - val_accuracy: 0.9763 - 21s/epoch - 50ms/step\n",
      "Epoch 14/20\n",
      "422/422 - 21s - loss: 0.0832 - accuracy: 0.9750 - val_loss: 0.0830 - val_accuracy: 0.9765 - 21s/epoch - 50ms/step\n",
      "Epoch 15/20\n",
      "422/422 - 21s - loss: 0.0784 - accuracy: 0.9773 - val_loss: 0.0789 - val_accuracy: 0.9778 - 21s/epoch - 50ms/step\n",
      "Epoch 16/20\n",
      "422/422 - 21s - loss: 0.0756 - accuracy: 0.9778 - val_loss: 0.0820 - val_accuracy: 0.9782 - 21s/epoch - 50ms/step\n",
      "Epoch 17/20\n",
      "422/422 - 21s - loss: 0.0726 - accuracy: 0.9781 - val_loss: 0.0760 - val_accuracy: 0.9757 - 21s/epoch - 50ms/step\n",
      "Epoch 18/20\n",
      "422/422 - 21s - loss: 0.0702 - accuracy: 0.9789 - val_loss: 0.0660 - val_accuracy: 0.9813 - 21s/epoch - 50ms/step\n",
      "Epoch 19/20\n",
      "422/422 - 21s - loss: 0.0669 - accuracy: 0.9805 - val_loss: 0.0591 - val_accuracy: 0.9827 - 21s/epoch - 50ms/step\n",
      "Epoch 20/20\n",
      "422/422 - 21s - loss: 0.0660 - accuracy: 0.9805 - val_loss: 0.0700 - val_accuracy: 0.9820 - 21s/epoch - 50ms/step\n",
      "1/1 [==============================] - 1s 786ms/step - loss: 0.0601 - accuracy: 0.9829\n",
      "--- Starting trial: run-4\n",
      "{'filter_size': 7, 'optimizer': 'adam'}\n",
      "Epoch 1/20\n",
      "422/422 - 20s - loss: 0.2489 - accuracy: 0.9291 - val_loss: 0.0971 - val_accuracy: 0.9722 - 20s/epoch - 47ms/step\n",
      "Epoch 2/20\n",
      "422/422 - 19s - loss: 0.0761 - accuracy: 0.9769 - val_loss: 0.0497 - val_accuracy: 0.9867 - 19s/epoch - 46ms/step\n",
      "Epoch 3/20\n",
      "422/422 - 19s - loss: 0.0524 - accuracy: 0.9844 - val_loss: 0.0505 - val_accuracy: 0.9852 - 19s/epoch - 45ms/step\n",
      "Epoch 4/20\n",
      "422/422 - 19s - loss: 0.0416 - accuracy: 0.9874 - val_loss: 0.0347 - val_accuracy: 0.9885 - 19s/epoch - 45ms/step\n",
      "Epoch 5/20\n",
      "422/422 - 19s - loss: 0.0353 - accuracy: 0.9889 - val_loss: 0.0362 - val_accuracy: 0.9902 - 19s/epoch - 45ms/step\n",
      "Epoch 6/20\n",
      "422/422 - 19s - loss: 0.0284 - accuracy: 0.9911 - val_loss: 0.0169 - val_accuracy: 0.9963 - 19s/epoch - 45ms/step\n",
      "Epoch 7/20\n",
      "422/422 - 19s - loss: 0.0235 - accuracy: 0.9928 - val_loss: 0.0201 - val_accuracy: 0.9938 - 19s/epoch - 46ms/step\n",
      "Epoch 8/20\n",
      "422/422 - 19s - loss: 0.0212 - accuracy: 0.9933 - val_loss: 0.0154 - val_accuracy: 0.9953 - 19s/epoch - 46ms/step\n",
      "Epoch 9/20\n",
      "422/422 - 19s - loss: 0.0170 - accuracy: 0.9948 - val_loss: 0.0152 - val_accuracy: 0.9950 - 19s/epoch - 45ms/step\n",
      "Epoch 10/20\n",
      "422/422 - 19s - loss: 0.0156 - accuracy: 0.9951 - val_loss: 0.0115 - val_accuracy: 0.9963 - 19s/epoch - 45ms/step\n",
      "Epoch 11/20\n",
      "422/422 - 19s - loss: 0.0120 - accuracy: 0.9964 - val_loss: 0.0102 - val_accuracy: 0.9968 - 19s/epoch - 45ms/step\n",
      "Epoch 12/20\n",
      "422/422 - 19s - loss: 0.0099 - accuracy: 0.9970 - val_loss: 0.0055 - val_accuracy: 0.9987 - 19s/epoch - 45ms/step\n",
      "Epoch 13/20\n",
      "422/422 - 19s - loss: 0.0087 - accuracy: 0.9975 - val_loss: 0.0054 - val_accuracy: 0.9985 - 19s/epoch - 45ms/step\n",
      "Epoch 14/20\n",
      "422/422 - 19s - loss: 0.0097 - accuracy: 0.9969 - val_loss: 0.0095 - val_accuracy: 0.9965 - 19s/epoch - 45ms/step\n",
      "Epoch 15/20\n",
      "422/422 - 19s - loss: 0.0072 - accuracy: 0.9978 - val_loss: 0.0060 - val_accuracy: 0.9982 - 19s/epoch - 45ms/step\n",
      "1/1 [==============================] - 1s 680ms/step - loss: 0.0310 - accuracy: 0.9915\n",
      "--- Starting trial: run-5\n",
      "{'filter_size': 7, 'optimizer': 'sgd'}\n",
      "Epoch 1/20\n",
      "422/422 - 19s - loss: 1.1076 - accuracy: 0.7338 - val_loss: 0.4229 - val_accuracy: 0.8762 - 19s/epoch - 46ms/step\n",
      "Epoch 2/20\n",
      "422/422 - 19s - loss: 0.3333 - accuracy: 0.9061 - val_loss: 0.2721 - val_accuracy: 0.9203 - 19s/epoch - 45ms/step\n",
      "Epoch 3/20\n",
      "422/422 - 19s - loss: 0.2460 - accuracy: 0.9277 - val_loss: 0.2143 - val_accuracy: 0.9345 - 19s/epoch - 45ms/step\n",
      "Epoch 4/20\n",
      "422/422 - 19s - loss: 0.2030 - accuracy: 0.9413 - val_loss: 0.1772 - val_accuracy: 0.9470 - 19s/epoch - 45ms/step\n",
      "Epoch 5/20\n",
      "422/422 - 19s - loss: 0.1752 - accuracy: 0.9487 - val_loss: 0.1644 - val_accuracy: 0.9500 - 19s/epoch - 45ms/step\n",
      "Epoch 6/20\n",
      "422/422 - 19s - loss: 0.1556 - accuracy: 0.9552 - val_loss: 0.1528 - val_accuracy: 0.9540 - 19s/epoch - 45ms/step\n",
      "Epoch 7/20\n",
      "422/422 - 19s - loss: 0.1380 - accuracy: 0.9596 - val_loss: 0.1376 - val_accuracy: 0.9590 - 19s/epoch - 45ms/step\n",
      "Epoch 8/20\n",
      "422/422 - 19s - loss: 0.1264 - accuracy: 0.9631 - val_loss: 0.1180 - val_accuracy: 0.9673 - 19s/epoch - 45ms/step\n",
      "Epoch 9/20\n",
      "422/422 - 20s - loss: 0.1187 - accuracy: 0.9659 - val_loss: 0.1087 - val_accuracy: 0.9680 - 20s/epoch - 46ms/step\n",
      "Epoch 10/20\n",
      "422/422 - 20s - loss: 0.1106 - accuracy: 0.9674 - val_loss: 0.1024 - val_accuracy: 0.9705 - 20s/epoch - 47ms/step\n",
      "Epoch 11/20\n",
      "422/422 - 20s - loss: 0.1043 - accuracy: 0.9689 - val_loss: 0.1094 - val_accuracy: 0.9695 - 20s/epoch - 47ms/step\n",
      "Epoch 12/20\n",
      "422/422 - 20s - loss: 0.0981 - accuracy: 0.9714 - val_loss: 0.0995 - val_accuracy: 0.9717 - 20s/epoch - 47ms/step\n",
      "Epoch 13/20\n",
      "422/422 - 20s - loss: 0.0941 - accuracy: 0.9721 - val_loss: 0.0971 - val_accuracy: 0.9720 - 20s/epoch - 47ms/step\n",
      "Epoch 14/20\n",
      "422/422 - 19s - loss: 0.0903 - accuracy: 0.9736 - val_loss: 0.0842 - val_accuracy: 0.9752 - 19s/epoch - 46ms/step\n",
      "Epoch 15/20\n",
      "422/422 - 19s - loss: 0.0865 - accuracy: 0.9749 - val_loss: 0.0748 - val_accuracy: 0.9770 - 19s/epoch - 46ms/step\n",
      "Epoch 16/20\n",
      "422/422 - 20s - loss: 0.0823 - accuracy: 0.9758 - val_loss: 0.0756 - val_accuracy: 0.9783 - 20s/epoch - 46ms/step\n",
      "Epoch 17/20\n",
      "422/422 - 19s - loss: 0.0799 - accuracy: 0.9769 - val_loss: 0.0734 - val_accuracy: 0.9798 - 19s/epoch - 46ms/step\n",
      "Epoch 18/20\n",
      "422/422 - 19s - loss: 0.0767 - accuracy: 0.9774 - val_loss: 0.0742 - val_accuracy: 0.9807 - 19s/epoch - 46ms/step\n",
      "Epoch 19/20\n",
      "422/422 - 20s - loss: 0.0746 - accuracy: 0.9784 - val_loss: 0.0743 - val_accuracy: 0.9788 - 20s/epoch - 46ms/step\n",
      "1/1 [==============================] - 1s 674ms/step - loss: 0.0785 - accuracy: 0.9763\n"
     ]
    }
   ],
   "source": [
    "# to iterate over every combination of hyperparameter\n",
    "session_num = 0\n",
    "for filter_size in HP_FILTER_SIZE.domain.values:\n",
    "    for optimizer in HP_OPTIMIZER.domain.values:\n",
    "        # dictionary with current values\n",
    "        hparams = {\n",
    "            HP_FILTER_SIZE: filter_size,\n",
    "            HP_OPTIMIZER: optimizer\n",
    "        }\n",
    "        run_name = \"run-%d\" % session_num\n",
    "        print('--- Starting trial: %s' % run_name)\n",
    "        print({h.name: hparams[h] for h in hparams})\n",
    "        run('logs/hparam_tuning/' + run_name, hparams)\n",
    "\n",
    "        session_num +=1"
   ],
   "metadata": {
    "collapsed": false,
    "pycharm": {
     "name": "#%%\n"
    }
   }
  },
  {
   "cell_type": "markdown",
   "source": [
    "Visualizations in Tensorboard"
   ],
   "metadata": {
    "collapsed": false,
    "pycharm": {
     "name": "#%% md\n"
    }
   }
  },
  {
   "cell_type": "code",
   "execution_count": 57,
   "outputs": [],
   "source": [
    "# Start tensorboard application\n",
    "%load_ext tensorboard"
   ],
   "metadata": {
    "collapsed": false,
    "pycharm": {
     "name": "#%%\n"
    }
   }
  },
  {
   "cell_type": "code",
   "execution_count": 58,
   "outputs": [
    {
     "data": {
      "text/plain": "Launching TensorBoard..."
     },
     "metadata": {},
     "output_type": "display_data"
    }
   ],
   "source": [
    "%tensorboard --logdir \"logs/hparam_tuning\""
   ],
   "metadata": {
    "collapsed": false,
    "pycharm": {
     "name": "#%%\n"
    }
   }
  },
  {
   "cell_type": "code",
   "execution_count": null,
   "outputs": [],
   "source": [],
   "metadata": {
    "collapsed": false,
    "pycharm": {
     "name": "#%%\n"
    }
   }
  }
 ],
 "metadata": {
  "kernelspec": {
   "display_name": "Python 3",
   "language": "python",
   "name": "python3"
  },
  "language_info": {
   "codemirror_mode": {
    "name": "ipython",
    "version": 2
   },
   "file_extension": ".py",
   "mimetype": "text/x-python",
   "name": "python",
   "nbconvert_exporter": "python",
   "pygments_lexer": "ipython2",
   "version": "2.7.6"
  }
 },
 "nbformat": 4,
 "nbformat_minor": 0
}