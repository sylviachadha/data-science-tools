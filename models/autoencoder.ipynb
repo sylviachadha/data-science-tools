{
 "cells": [
  {
   "cell_type": "code",
   "execution_count": 232,
   "metadata": {
    "collapsed": true
   },
   "outputs": [],
   "source": [
    "# Autoencoder for dimension reduction\n",
    "# Reducing from high dimension data to low dimension data"
   ]
  },
  {
   "cell_type": "code",
   "execution_count": 233,
   "outputs": [],
   "source": [
    "import keras\n",
    "from keras import layers\n",
    "\n",
    "# Give size of encoded representation (usually kept low)\n",
    "encoding_dim = 1\n",
    "\n",
    "# Architecture of encoder - input, encoded & decoded layers\n",
    "input_img = keras.Input(shape=(784,))\n",
    "# ecodeded is encoded representation of input\n",
    "encoded = layers.Dense(encoding_dim, activation='relu')(input_img)\n",
    "# decoded is lossy reconstruction of input\n",
    "decoded = layers.Dense(784, activation='sigmoid')(encoded)\n"
   ],
   "metadata": {
    "collapsed": false,
    "pycharm": {
     "name": "#%%\n"
    }
   }
  },
  {
   "cell_type": "code",
   "execution_count": 234,
   "outputs": [],
   "source": [
    "# Autoencoder model requires input_img & decoded representation\n",
    "# This model maps an input to its reconstruction\n",
    "autoencoder = keras.Model(input_img, decoded)\n",
    "\n",
    "# Encoder model requires input_img & encoded representation\n",
    "# This model maps an input to its encoded representation\n",
    "encoder = keras.Model(input_img, encoded)"
   ],
   "metadata": {
    "collapsed": false,
    "pycharm": {
     "name": "#%%\n"
    }
   }
  },
  {
   "cell_type": "code",
   "execution_count": 235,
   "outputs": [],
   "source": [
    "# Decoder Model - requires encoded_input & decoder_layer\n",
    "\n",
    "# This is encoded 32 dimensional i/p\n",
    "encoded_input = keras.Input(shape=(encoding_dim))\n",
    "# Retrieve last layer of autoencoder model\n",
    "decoder_layer = autoencoder.layers[-1]\n",
    "# Create decoder model\n",
    "decoder = keras.Model(encoded_input, decoder_layer(encoded_input))"
   ],
   "metadata": {
    "collapsed": false,
    "pycharm": {
     "name": "#%%\n"
    }
   }
  },
  {
   "cell_type": "code",
   "execution_count": 236,
   "outputs": [],
   "source": [
    "autoencoder.compile(optimizer='adam', loss='binary_crossentropy')\n",
    "# This is classification problem, so loss function-binary/categorical crossentropy"
   ],
   "metadata": {
    "collapsed": false,
    "pycharm": {
     "name": "#%%\n"
    }
   }
  },
  {
   "cell_type": "code",
   "execution_count": 237,
   "outputs": [],
   "source": [
    "# Load data\n",
    "from keras.datasets import mnist\n",
    "import numpy as np\n",
    "(x_train, _),(x_test, _) = mnist.load_data()"
   ],
   "metadata": {
    "collapsed": false,
    "pycharm": {
     "name": "#%%\n"
    }
   }
  },
  {
   "cell_type": "code",
   "execution_count": 238,
   "outputs": [
    {
     "data": {
      "text/plain": "(60000, 28, 28)"
     },
     "execution_count": 238,
     "metadata": {},
     "output_type": "execute_result"
    }
   ],
   "source": [
    "x_train.shape"
   ],
   "metadata": {
    "collapsed": false,
    "pycharm": {
     "name": "#%%\n"
    }
   }
  },
  {
   "cell_type": "code",
   "execution_count": 239,
   "outputs": [
    {
     "data": {
      "text/plain": "(10000, 28, 28)"
     },
     "execution_count": 239,
     "metadata": {},
     "output_type": "execute_result"
    }
   ],
   "source": [
    "x_test.shape"
   ],
   "metadata": {
    "collapsed": false,
    "pycharm": {
     "name": "#%%\n"
    }
   }
  },
  {
   "cell_type": "code",
   "execution_count": 240,
   "outputs": [
    {
     "name": "stdout",
     "output_type": "stream",
     "text": [
      "(60000, 784)\n",
      "(10000, 784)\n"
     ]
    }
   ],
   "source": [
    "# RGB is 0 to 255\n",
    "x_train = x_train.astype('float32') / 255.\n",
    "x_test = x_test.astype('float32') / 255.\n",
    "\n",
    "# Convert to format that can be passed to encoder\n",
    "x_train = x_train.reshape(len(x_train),np.prod(x_train.shape[1:]))\n",
    "x_test = x_test.reshape((len(x_test),np.prod(x_test.shape[1:])))\n",
    "print(x_train.shape)\n",
    "print(x_test.shape)\n"
   ],
   "metadata": {
    "collapsed": false,
    "pycharm": {
     "name": "#%%\n"
    }
   }
  },
  {
   "cell_type": "code",
   "execution_count": 241,
   "outputs": [
    {
     "name": "stdout",
     "output_type": "stream",
     "text": [
      "Epoch 1/10\n",
      "235/235 [==============================] - 1s 4ms/step - loss: 0.4498 - val_loss: 0.2889\n",
      "Epoch 2/10\n",
      "235/235 [==============================] - 1s 3ms/step - loss: 0.2803 - val_loss: 0.2733\n",
      "Epoch 3/10\n",
      "235/235 [==============================] - 1s 4ms/step - loss: 0.2710 - val_loss: 0.2679\n",
      "Epoch 4/10\n",
      "235/235 [==============================] - 1s 4ms/step - loss: 0.2669 - val_loss: 0.2650\n",
      "Epoch 5/10\n",
      "235/235 [==============================] - 1s 3ms/step - loss: 0.2644 - val_loss: 0.2631\n",
      "Epoch 6/10\n",
      "235/235 [==============================] - 1s 3ms/step - loss: 0.2626 - val_loss: 0.2615\n",
      "Epoch 7/10\n",
      "235/235 [==============================] - 1s 4ms/step - loss: 0.2613 - val_loss: 0.2605\n",
      "Epoch 8/10\n",
      "235/235 [==============================] - 1s 4ms/step - loss: 0.2602 - val_loss: 0.2596\n",
      "Epoch 9/10\n",
      "235/235 [==============================] - 1s 3ms/step - loss: 0.2594 - val_loss: 0.2588\n",
      "Epoch 10/10\n",
      "235/235 [==============================] - 1s 3ms/step - loss: 0.2587 - val_loss: 0.2581\n"
     ]
    },
    {
     "data": {
      "text/plain": "<keras.callbacks.History at 0x1d596ade8e0>"
     },
     "execution_count": 241,
     "metadata": {},
     "output_type": "execute_result"
    }
   ],
   "source": [
    "autoencoder.fit(x_train,x_train,\n",
    "                epochs=10,\n",
    "                batch_size=256,\n",
    "                shuffle=True,\n",
    "                validation_data=(x_test,x_test))"
   ],
   "metadata": {
    "collapsed": false,
    "pycharm": {
     "name": "#%%\n"
    }
   }
  },
  {
   "cell_type": "code",
   "execution_count": 242,
   "outputs": [],
   "source": [
    "# Encode & decode some mnist digits from test set\n",
    "encoded_imgs = encoder.predict(x_test)\n",
    "decoded_imgs = decoder.predict(encoded_imgs)\n"
   ],
   "metadata": {
    "collapsed": false,
    "pycharm": {
     "name": "#%%\n"
    }
   }
  },
  {
   "cell_type": "code",
   "execution_count": 243,
   "outputs": [
    {
     "data": {
      "text/plain": "(10000, 1)"
     },
     "execution_count": 243,
     "metadata": {},
     "output_type": "execute_result"
    }
   ],
   "source": [
    "encoded_imgs.shape\n",
    "# Earlier x_test (10000,784), 784 features, now entire image encoded into single feature"
   ],
   "metadata": {
    "collapsed": false,
    "pycharm": {
     "name": "#%%\n"
    }
   }
  },
  {
   "cell_type": "code",
   "execution_count": 244,
   "outputs": [
    {
     "data": {
      "text/plain": "array([[19.759195],\n       [12.818338],\n       [17.284964],\n       ...,\n       [37.238297],\n       [25.820982],\n       [23.522045]], dtype=float32)"
     },
     "execution_count": 244,
     "metadata": {},
     "output_type": "execute_result"
    }
   ],
   "source": [
    "encoded_imgs"
   ],
   "metadata": {
    "collapsed": false,
    "pycharm": {
     "name": "#%%\n"
    }
   }
  },
  {
   "cell_type": "code",
   "execution_count": 245,
   "outputs": [
    {
     "data": {
      "text/plain": "(10000, 784)"
     },
     "execution_count": 245,
     "metadata": {},
     "output_type": "execute_result"
    }
   ],
   "source": [
    "decoded_imgs.shape\n"
   ],
   "metadata": {
    "collapsed": false,
    "pycharm": {
     "name": "#%%\n"
    }
   }
  },
  {
   "cell_type": "code",
   "execution_count": 246,
   "outputs": [
    {
     "data": {
      "text/plain": "(10000, 784)"
     },
     "execution_count": 246,
     "metadata": {},
     "output_type": "execute_result"
    }
   ],
   "source": [
    "x_test.shape\n",
    "# Input x_test and decoded o/p same (10000,784)"
   ],
   "metadata": {
    "collapsed": false,
    "pycharm": {
     "name": "#%%\n"
    }
   }
  },
  {
   "cell_type": "code",
   "execution_count": 247,
   "outputs": [],
   "source": [
    "# Dataset 2 for Autoencoder\n",
    "# we take another dataset created with random no & having high dimension\n",
    "\n",
    "import pandas as pd\n",
    "\n",
    "df = pd.DataFrame(np.random.randint(0,100,size=(100,10)), columns=list('ABCDEFGHIJ'))"
   ],
   "metadata": {
    "collapsed": false,
    "pycharm": {
     "name": "#%%\n"
    }
   }
  },
  {
   "cell_type": "code",
   "execution_count": 248,
   "outputs": [
    {
     "data": {
      "text/plain": "     A   B   C   D   E   F   G   H   I   J\n0    7  35  61  33  59   0  82  42  91  83\n1   41  73  10  24  99   3  94  37  36  72\n2   68  12  60  45  98  14  31  42  79  11\n3   53  54  67  90  41  32  58  78  75  73\n4   73  55  25  64  45  81  47  51  27  59\n..  ..  ..  ..  ..  ..  ..  ..  ..  ..  ..\n95  22  73   5  13  78  83  39  93  41  89\n96  43  63  35  13  76  72  13  10  10  73\n97  33  60   3  91   5  34  40  17  53  36\n98  85  55  52  11  96   5  38  25  67  72\n99   7  14  43  76  61  27  65  66  67  32\n\n[100 rows x 10 columns]",
      "text/html": "<div>\n<style scoped>\n    .dataframe tbody tr th:only-of-type {\n        vertical-align: middle;\n    }\n\n    .dataframe tbody tr th {\n        vertical-align: top;\n    }\n\n    .dataframe thead th {\n        text-align: right;\n    }\n</style>\n<table border=\"1\" class=\"dataframe\">\n  <thead>\n    <tr style=\"text-align: right;\">\n      <th></th>\n      <th>A</th>\n      <th>B</th>\n      <th>C</th>\n      <th>D</th>\n      <th>E</th>\n      <th>F</th>\n      <th>G</th>\n      <th>H</th>\n      <th>I</th>\n      <th>J</th>\n    </tr>\n  </thead>\n  <tbody>\n    <tr>\n      <th>0</th>\n      <td>7</td>\n      <td>35</td>\n      <td>61</td>\n      <td>33</td>\n      <td>59</td>\n      <td>0</td>\n      <td>82</td>\n      <td>42</td>\n      <td>91</td>\n      <td>83</td>\n    </tr>\n    <tr>\n      <th>1</th>\n      <td>41</td>\n      <td>73</td>\n      <td>10</td>\n      <td>24</td>\n      <td>99</td>\n      <td>3</td>\n      <td>94</td>\n      <td>37</td>\n      <td>36</td>\n      <td>72</td>\n    </tr>\n    <tr>\n      <th>2</th>\n      <td>68</td>\n      <td>12</td>\n      <td>60</td>\n      <td>45</td>\n      <td>98</td>\n      <td>14</td>\n      <td>31</td>\n      <td>42</td>\n      <td>79</td>\n      <td>11</td>\n    </tr>\n    <tr>\n      <th>3</th>\n      <td>53</td>\n      <td>54</td>\n      <td>67</td>\n      <td>90</td>\n      <td>41</td>\n      <td>32</td>\n      <td>58</td>\n      <td>78</td>\n      <td>75</td>\n      <td>73</td>\n    </tr>\n    <tr>\n      <th>4</th>\n      <td>73</td>\n      <td>55</td>\n      <td>25</td>\n      <td>64</td>\n      <td>45</td>\n      <td>81</td>\n      <td>47</td>\n      <td>51</td>\n      <td>27</td>\n      <td>59</td>\n    </tr>\n    <tr>\n      <th>...</th>\n      <td>...</td>\n      <td>...</td>\n      <td>...</td>\n      <td>...</td>\n      <td>...</td>\n      <td>...</td>\n      <td>...</td>\n      <td>...</td>\n      <td>...</td>\n      <td>...</td>\n    </tr>\n    <tr>\n      <th>95</th>\n      <td>22</td>\n      <td>73</td>\n      <td>5</td>\n      <td>13</td>\n      <td>78</td>\n      <td>83</td>\n      <td>39</td>\n      <td>93</td>\n      <td>41</td>\n      <td>89</td>\n    </tr>\n    <tr>\n      <th>96</th>\n      <td>43</td>\n      <td>63</td>\n      <td>35</td>\n      <td>13</td>\n      <td>76</td>\n      <td>72</td>\n      <td>13</td>\n      <td>10</td>\n      <td>10</td>\n      <td>73</td>\n    </tr>\n    <tr>\n      <th>97</th>\n      <td>33</td>\n      <td>60</td>\n      <td>3</td>\n      <td>91</td>\n      <td>5</td>\n      <td>34</td>\n      <td>40</td>\n      <td>17</td>\n      <td>53</td>\n      <td>36</td>\n    </tr>\n    <tr>\n      <th>98</th>\n      <td>85</td>\n      <td>55</td>\n      <td>52</td>\n      <td>11</td>\n      <td>96</td>\n      <td>5</td>\n      <td>38</td>\n      <td>25</td>\n      <td>67</td>\n      <td>72</td>\n    </tr>\n    <tr>\n      <th>99</th>\n      <td>7</td>\n      <td>14</td>\n      <td>43</td>\n      <td>76</td>\n      <td>61</td>\n      <td>27</td>\n      <td>65</td>\n      <td>66</td>\n      <td>67</td>\n      <td>32</td>\n    </tr>\n  </tbody>\n</table>\n<p>100 rows × 10 columns</p>\n</div>"
     },
     "execution_count": 248,
     "metadata": {},
     "output_type": "execute_result"
    }
   ],
   "source": [
    "df"
   ],
   "metadata": {
    "collapsed": false,
    "pycharm": {
     "name": "#%%\n"
    }
   }
  },
  {
   "cell_type": "code",
   "execution_count": 249,
   "outputs": [],
   "source": [
    "# Divide data into train & test and change to array cz encoder\n",
    "# decoder model takes array.\n",
    "\n",
    "x_train = df[:70]\n",
    "x_test = df[70:]\n",
    "x_train = np.array(x_train)\n",
    "x_test = np.array(x_test)"
   ],
   "metadata": {
    "collapsed": false,
    "pycharm": {
     "name": "#%%\n"
    }
   }
  },
  {
   "cell_type": "code",
   "execution_count": 250,
   "outputs": [
    {
     "name": "stdout",
     "output_type": "stream",
     "text": [
      "(70, 10)\n",
      "(30, 10)\n"
     ]
    }
   ],
   "source": [
    "x_train = x_train.astype('float32') / 255.\n",
    "x_test = x_test.astype('float32') / 255.\n",
    "x_train = x_train.reshape((len(x_train),np.prod(x_train.shape[1:])))\n",
    "x_test = x_test.reshape((len(x_test),np.prod(x_test.shape[1:])))\n",
    "print(x_train.shape)\n",
    "print(x_test.shape)\n"
   ],
   "metadata": {
    "collapsed": false,
    "pycharm": {
     "name": "#%%\n"
    }
   }
  },
  {
   "cell_type": "code",
   "execution_count": 251,
   "outputs": [],
   "source": [
    "# This is size of encoded representation\n",
    "encoding_dim = 2"
   ],
   "metadata": {
    "collapsed": false,
    "pycharm": {
     "name": "#%%\n"
    }
   }
  },
  {
   "cell_type": "code",
   "execution_count": 252,
   "outputs": [],
   "source": [
    "# This is i/p image - original i/p\n",
    "input_img = keras.Input(shape=(10,))\n",
    "# encoded is encoded representation of input\n",
    "encoded = layers.Dense(encoding_dim, activation='relu')(input_img)\n",
    "# decoded is lossy reconstruction of input\n",
    "decoded = layers.Dense(10, activation='sigmoid')(encoded)\n",
    "\n",
    "# This model maps an input to its reconstruction\n",
    "autoencoder = keras.Model(input_img, decoded)\n",
    "# THis model maps an input to its encoded representation\n",
    "encoder = keras.Model(input_img, encoded)\n",
    "\n",
    "# This is encoded input\n",
    "encoded_input = keras.Input(shape=(encoding_dim))\n",
    "# Retrieve last layer of autoencoder model\n",
    "decoder_layer = autoencoder.layers[-1]\n",
    "# Create decoder model\n",
    "decoder = keras.Model(encoded_input, decoder_layer(encoded_input))\n"
   ],
   "metadata": {
    "collapsed": false,
    "pycharm": {
     "name": "#%%\n"
    }
   }
  },
  {
   "cell_type": "code",
   "execution_count": 253,
   "outputs": [],
   "source": [
    "# Compile model\n",
    "autoencoder.compile(optimizer='adam', loss='mean_squared_error')\n",
    "\n",
    "# loss=mae cz numerical data not doing classifications"
   ],
   "metadata": {
    "collapsed": false,
    "pycharm": {
     "name": "#%%\n"
    }
   }
  },
  {
   "cell_type": "code",
   "execution_count": 254,
   "outputs": [
    {
     "data": {
      "text/plain": "[<keras.engine.input_layer.InputLayer at 0x1d596c5a0d0>,\n <keras.layers.core.dense.Dense at 0x1d596c5a070>,\n <keras.layers.core.dense.Dense at 0x1d596c5ae80>]"
     },
     "execution_count": 254,
     "metadata": {},
     "output_type": "execute_result"
    }
   ],
   "source": [
    "autoencoder.layers"
   ],
   "metadata": {
    "collapsed": false,
    "pycharm": {
     "name": "#%%\n"
    }
   }
  },
  {
   "cell_type": "code",
   "execution_count": 255,
   "outputs": [
    {
     "name": "stdout",
     "output_type": "stream",
     "text": [
      "Epoch 1/30\n",
      "1/1 [==============================] - 0s 317ms/step - loss: 0.1057 - val_loss: 0.1070\n",
      "Epoch 2/30\n",
      "1/1 [==============================] - 0s 19ms/step - loss: 0.1055 - val_loss: 0.1068\n",
      "Epoch 3/30\n",
      "1/1 [==============================] - 0s 21ms/step - loss: 0.1053 - val_loss: 0.1066\n",
      "Epoch 4/30\n",
      "1/1 [==============================] - 0s 20ms/step - loss: 0.1050 - val_loss: 0.1063\n",
      "Epoch 5/30\n",
      "1/1 [==============================] - 0s 20ms/step - loss: 0.1048 - val_loss: 0.1061\n",
      "Epoch 6/30\n",
      "1/1 [==============================] - 0s 22ms/step - loss: 0.1046 - val_loss: 0.1058\n",
      "Epoch 7/30\n",
      "1/1 [==============================] - 0s 19ms/step - loss: 0.1043 - val_loss: 0.1056\n",
      "Epoch 8/30\n",
      "1/1 [==============================] - 0s 20ms/step - loss: 0.1041 - val_loss: 0.1053\n",
      "Epoch 9/30\n",
      "1/1 [==============================] - 0s 20ms/step - loss: 0.1039 - val_loss: 0.1051\n",
      "Epoch 10/30\n",
      "1/1 [==============================] - 0s 19ms/step - loss: 0.1036 - val_loss: 0.1049\n",
      "Epoch 11/30\n",
      "1/1 [==============================] - 0s 19ms/step - loss: 0.1034 - val_loss: 0.1046\n",
      "Epoch 12/30\n",
      "1/1 [==============================] - 0s 20ms/step - loss: 0.1031 - val_loss: 0.1044\n",
      "Epoch 13/30\n",
      "1/1 [==============================] - 0s 20ms/step - loss: 0.1029 - val_loss: 0.1041\n",
      "Epoch 14/30\n",
      "1/1 [==============================] - 0s 19ms/step - loss: 0.1026 - val_loss: 0.1039\n",
      "Epoch 15/30\n",
      "1/1 [==============================] - 0s 20ms/step - loss: 0.1023 - val_loss: 0.1036\n",
      "Epoch 16/30\n",
      "1/1 [==============================] - 0s 21ms/step - loss: 0.1021 - val_loss: 0.1034\n",
      "Epoch 17/30\n",
      "1/1 [==============================] - 0s 21ms/step - loss: 0.1018 - val_loss: 0.1031\n",
      "Epoch 18/30\n",
      "1/1 [==============================] - 0s 20ms/step - loss: 0.1016 - val_loss: 0.1029\n",
      "Epoch 19/30\n",
      "1/1 [==============================] - 0s 20ms/step - loss: 0.1013 - val_loss: 0.1026\n",
      "Epoch 20/30\n",
      "1/1 [==============================] - 0s 20ms/step - loss: 0.1011 - val_loss: 0.1023\n",
      "Epoch 21/30\n",
      "1/1 [==============================] - 0s 20ms/step - loss: 0.1008 - val_loss: 0.1021\n",
      "Epoch 22/30\n",
      "1/1 [==============================] - 0s 20ms/step - loss: 0.1005 - val_loss: 0.1018\n",
      "Epoch 23/30\n",
      "1/1 [==============================] - 0s 19ms/step - loss: 0.1003 - val_loss: 0.1016\n",
      "Epoch 24/30\n",
      "1/1 [==============================] - 0s 20ms/step - loss: 0.1000 - val_loss: 0.1013\n",
      "Epoch 25/30\n",
      "1/1 [==============================] - 0s 20ms/step - loss: 0.0997 - val_loss: 0.1010\n",
      "Epoch 26/30\n",
      "1/1 [==============================] - 0s 20ms/step - loss: 0.0995 - val_loss: 0.1008\n",
      "Epoch 27/30\n",
      "1/1 [==============================] - 0s 20ms/step - loss: 0.0992 - val_loss: 0.1005\n",
      "Epoch 28/30\n",
      "1/1 [==============================] - 0s 19ms/step - loss: 0.0989 - val_loss: 0.1002\n",
      "Epoch 29/30\n",
      "1/1 [==============================] - 0s 20ms/step - loss: 0.0986 - val_loss: 0.1000\n",
      "Epoch 30/30\n",
      "1/1 [==============================] - 0s 20ms/step - loss: 0.0984 - val_loss: 0.0997\n"
     ]
    },
    {
     "data": {
      "text/plain": "<keras.callbacks.History at 0x1d596c8b310>"
     },
     "execution_count": 255,
     "metadata": {},
     "output_type": "execute_result"
    }
   ],
   "source": [
    "autoencoder.fit(x_train,x_train,\n",
    "                epochs=30,\n",
    "                batch_size=256,\n",
    "                shuffle=True,\n",
    "                validation_data=(x_test,x_test))"
   ],
   "metadata": {
    "collapsed": false,
    "pycharm": {
     "name": "#%%\n"
    }
   }
  },
  {
   "cell_type": "code",
   "execution_count": 256,
   "outputs": [],
   "source": [
    "# Predict\n",
    "\n",
    "encoded_output = encoder.predict(x_test)\n",
    "decoded_output = decoder.predict(encoded_output)"
   ],
   "metadata": {
    "collapsed": false,
    "pycharm": {
     "name": "#%%\n"
    }
   }
  },
  {
   "cell_type": "code",
   "execution_count": 257,
   "outputs": [
    {
     "data": {
      "text/plain": "array([[0.00000000e+00, 1.01378247e-01],\n       [1.45520285e-01, 0.00000000e+00],\n       [1.19025886e-01, 0.00000000e+00],\n       [4.00316536e-01, 7.59410188e-02],\n       [1.92915127e-01, 0.00000000e+00],\n       [1.56247035e-01, 0.00000000e+00],\n       [1.32757291e-01, 0.00000000e+00],\n       [2.28838935e-01, 0.00000000e+00],\n       [0.00000000e+00, 0.00000000e+00],\n       [2.24780872e-01, 2.90970691e-02],\n       [4.23416525e-01, 1.54413283e-05],\n       [4.66322601e-01, 1.70776144e-01],\n       [1.69699863e-01, 1.24023005e-01],\n       [9.06121582e-02, 0.00000000e+00],\n       [2.29554981e-01, 0.00000000e+00],\n       [2.17585459e-01, 1.28843024e-01],\n       [2.44167820e-02, 0.00000000e+00],\n       [0.00000000e+00, 0.00000000e+00],\n       [2.01117992e-01, 0.00000000e+00],\n       [1.83853269e-01, 1.27583053e-02],\n       [5.87681048e-02, 0.00000000e+00],\n       [1.74434841e-01, 0.00000000e+00],\n       [2.84673840e-01, 2.07646668e-01],\n       [3.86228263e-01, 2.50456184e-01],\n       [2.23563761e-02, 2.26397112e-01],\n       [3.08172077e-01, 1.76166028e-01],\n       [1.40092112e-02, 1.65884539e-01],\n       [1.86361566e-01, 5.69769479e-02],\n       [1.69388488e-01, 3.09929699e-01],\n       [1.19614810e-01, 0.00000000e+00]], dtype=float32)"
     },
     "execution_count": 257,
     "metadata": {},
     "output_type": "execute_result"
    }
   ],
   "source": [
    "encoded_output\n",
    "\n",
    "# Reduce 10 features into 2 features"
   ],
   "metadata": {
    "collapsed": false,
    "pycharm": {
     "name": "#%%\n"
    }
   }
  },
  {
   "cell_type": "code",
   "execution_count": 258,
   "outputs": [
    {
     "data": {
      "text/plain": "(30, 2)"
     },
     "execution_count": 258,
     "metadata": {},
     "output_type": "execute_result"
    }
   ],
   "source": [
    "encoded_output.shape\n",
    "\n",
    "# 10 dimensions reduced to two dimensions"
   ],
   "metadata": {
    "collapsed": false,
    "pycharm": {
     "name": "#%%\n"
    }
   }
  },
  {
   "cell_type": "code",
   "execution_count": 259,
   "outputs": [
    {
     "data": {
      "text/plain": "<Figure size 432x432 with 2 Axes>",
      "image/png": "[encoded data removed]"
     },
     "metadata": {
      "needs_background": "light"
     },
     "output_type": "display_data"
    }
   ],
   "source": [
    "import matplotlib.pyplot as plt\n",
    "\n",
    "x_test_encoded = encoder.predict(x_test, batch_size=2)\n",
    "plt.figure(figsize=(6,6))\n",
    "plt.scatter(x_test_encoded[:,0],x_test_encoded[:,1])\n",
    "plt.colorbar()\n",
    "plt.show()\n",
    "\n",
    "# Below encoded representation tells u that data is v random there is\n",
    "# no relationship b/w 2 variables/features & data was also here randomly generated"
   ],
   "metadata": {
    "collapsed": false,
    "pycharm": {
     "name": "#%%\n"
    }
   }
  },
  {
   "cell_type": "code",
   "execution_count": 260,
   "outputs": [
    {
     "data": {
      "text/plain": "array([0.        , 0.14552028, 0.1190259 , 0.40031654, 0.19291514,\n       0.15624702, 0.13275729, 0.22883895, 0.        , 0.22478086,\n       0.4234165 , 0.4663226 , 0.16969985, 0.09061216, 0.22955495,\n       0.21758544, 0.02441678, 0.        , 0.201118  , 0.18385325,\n       0.0587681 , 0.17443484, 0.28467387, 0.38622826, 0.02235637,\n       0.3081721 , 0.01400922, 0.18636157, 0.16938849, 0.11961479],\n      dtype=float32)"
     },
     "execution_count": 260,
     "metadata": {},
     "output_type": "execute_result"
    }
   ],
   "source": [
    "x_test_encoded[:,0]  # 1st encoded feature"
   ],
   "metadata": {
    "collapsed": false,
    "pycharm": {
     "name": "#%%\n"
    }
   }
  },
  {
   "cell_type": "code",
   "execution_count": 261,
   "outputs": [
    {
     "data": {
      "text/plain": "array([1.01378247e-01, 0.00000000e+00, 0.00000000e+00, 7.59410113e-02,\n       0.00000000e+00, 0.00000000e+00, 0.00000000e+00, 0.00000000e+00,\n       0.00000000e+00, 2.90971063e-02, 1.54487789e-05, 1.70776173e-01,\n       1.24023005e-01, 0.00000000e+00, 0.00000000e+00, 1.28843024e-01,\n       0.00000000e+00, 0.00000000e+00, 0.00000000e+00, 1.27583109e-02,\n       0.00000000e+00, 0.00000000e+00, 2.07646668e-01, 2.50456184e-01,\n       2.26397112e-01, 1.76166013e-01, 1.65884539e-01, 5.69769405e-02,\n       3.09929699e-01, 0.00000000e+00], dtype=float32)"
     },
     "execution_count": 261,
     "metadata": {},
     "output_type": "execute_result"
    }
   ],
   "source": [
    "x_test_encoded[:,1]  # 2nd encoded feature"
   ],
   "metadata": {
    "collapsed": false,
    "pycharm": {
     "name": "#%%\n"
    }
   }
  },
  {
   "cell_type": "code",
   "execution_count": 262,
   "outputs": [
    {
     "data": {
      "text/plain": "array([[0.48848706, 0.50134486, 0.47755793, 0.47474548, 0.49873298,\n        0.48665348, 0.48817286, 0.5056744 , 0.48210436, 0.47954112],\n       [0.46979654, 0.49690965, 0.46620044, 0.486589  , 0.47106102,\n        0.48446453, 0.51211905, 0.49997213, 0.46813175, 0.50608313],\n       [0.47393325, 0.49610797, 0.4709908 , 0.48767242, 0.4749664 ,\n        0.48593292, 0.5085482 , 0.49861175, 0.4725714 , 0.5036124 ],\n       [0.4273215 , 0.5112387 , 0.40964764, 0.46288243, 0.4383144 ,\n        0.46597287, 0.5431271 , 0.5229077 , 0.41814733, 0.52011114],\n       [0.4624072 , 0.49834377, 0.45764717, 0.48465133, 0.46408397,\n        0.4818385 , 0.5185036 , 0.50240564, 0.46020287, 0.5105021 ],\n       [0.46812284, 0.49723423, 0.46426266, 0.48615044, 0.46948084,\n        0.48387012, 0.51356447, 0.5005229 , 0.46633568, 0.5070834 ],\n       [0.47178882, 0.49652344, 0.46850735, 0.4871109 , 0.4729419 ,\n        0.48517185, 0.51039904, 0.4993168 , 0.47026986, 0.50489295],\n       [0.45681712, 0.4994308 , 0.4511804 , 0.4831829 , 0.4588048 ,\n        0.4798487 , 0.523339  , 0.5042501 , 0.4542062 , 0.5138505 ],\n       [0.4925535 , 0.49250677, 0.49256492, 0.4925408 , 0.49254224,\n        0.4925322 , 0.49250042, 0.49250078, 0.49255994, 0.49251226],\n       [0.4562892 , 0.5018448 , 0.44764227, 0.4782428 , 0.46116647,\n        0.47838834, 0.5215528 , 0.5078225 , 0.4519061 , 0.50974834],\n       [0.42676204, 0.5053198 , 0.41649115, 0.47523233, 0.4304015 ,\n        0.46908304, 0.54942966, 0.5142392 , 0.42199767, 0.5319555 ],\n       [0.4135366 , 0.52149284, 0.38472104, 0.44368672, 0.4344123 ,\n        0.45686457, 0.54793715, 0.53856033, 0.39796972, 0.51413006],\n       [0.46107474, 0.5084534 , 0.44362345, 0.46386364, 0.47504902,\n        0.47594184, 0.51008415, 0.517324  , 0.45137686, 0.4924573 ],\n       [0.47837362, 0.49524823, 0.47613415, 0.4888344 , 0.47915807,\n        0.48750794, 0.50471765, 0.49715284, 0.47733745, 0.5009625 ],\n       [0.4567058 , 0.49945247, 0.45105168, 0.48315364, 0.45869964,\n        0.47980908, 0.5234353 , 0.5042869 , 0.4540868 , 0.51391727],\n       [0.45343727, 0.510322  , 0.43435717, 0.46107298, 0.4682861 ,\n        0.4730136 , 0.51633066, 0.52040464, 0.44292262, 0.49630556],\n       [0.4887304 , 0.49324545, 0.48813435, 0.49154198, 0.48893383,\n        0.49117815, 0.49579227, 0.49375427, 0.48845547, 0.4947891 ],\n       [0.4925535 , 0.49250677, 0.49256492, 0.4925408 , 0.49254224,\n        0.4925322 , 0.49250042, 0.49250078, 0.49255994, 0.49251226],\n       [0.46112987, 0.49859196, 0.45616922, 0.484316  , 0.46287775,\n        0.4813841 , 0.519608  , 0.5028268 , 0.4588325 , 0.51126677],\n       [0.46330965, 0.49918187, 0.45740348, 0.48278195, 0.46619248,\n        0.48160133, 0.5167391 , 0.50359833, 0.46040872, 0.5080241 ],\n       [0.4833541 , 0.49428475, 0.48190442, 0.49013686, 0.4838593 ,\n        0.48927337, 0.500424  , 0.49551785, 0.4826838 , 0.49799263],\n       [0.46528667, 0.49778455, 0.46097958, 0.48540682, 0.46680295,\n        0.48286235, 0.51601475, 0.5014568 , 0.46329233, 0.5087792 ],\n       [0.43992326, 0.5192146 , 0.41107696, 0.44462794, 0.46320468,\n        0.4647528 , 0.5220031 , 0.5340488 , 0.42385516, 0.49247172],\n       [0.42263353, 0.52600586, 0.38731167, 0.43312418, 0.4508979 ,\n        0.45668626, 0.53383076, 0.5447591 , 0.40300736, 0.49646056],\n       [0.47997743, 0.51291823, 0.45508155, 0.45198667, 0.5030629 ,\n        0.47817126, 0.48585016, 0.5230529 , 0.46548972, 0.46565953],\n       [0.43754214, 0.51718366, 0.41146347, 0.44914725, 0.45784196,\n        0.46527308, 0.52650523, 0.53117657, 0.42316905, 0.49869394],\n       [0.48370808, 0.5073922 , 0.4654966 , 0.46288276, 0.5006014 ,\n        0.48213857, 0.4873077 , 0.51477253, 0.47310954, 0.47260332],\n       [0.4611548 , 0.5031129 , 0.45045573, 0.47492254, 0.46851224,\n        0.47890115, 0.5151906 , 0.50947237, 0.45545867, 0.50259626],\n       [0.4537177 , 0.5246331 , 0.41667724, 0.43157393, 0.48643118,\n        0.4652117 , 0.5021047 , 0.5413793 , 0.43250322, 0.46866247],\n       [0.47384125, 0.4961258 , 0.47088426, 0.48764834, 0.47487956,\n        0.48590028, 0.50862753, 0.498642  , 0.47247267, 0.50366735]],\n      dtype=float32)"
     },
     "execution_count": 262,
     "metadata": {},
     "output_type": "execute_result"
    }
   ],
   "source": [
    "# To get original data back (reconstruct)\n",
    "\n",
    "decoded_output"
   ],
   "metadata": {
    "collapsed": false,
    "pycharm": {
     "name": "#%%\n"
    }
   }
  },
  {
   "cell_type": "code",
   "execution_count": null,
   "outputs": [],
   "source": [
    "# Encoder-Decoder models will help u encode data & again reconstruct the data using decoder."
   ],
   "metadata": {
    "collapsed": false,
    "pycharm": {
     "name": "#%%\n"
    }
   }
  }
 ],
 "metadata": {
  "kernelspec": {
   "display_name": "Python 3",
   "language": "python",
   "name": "python3"
  },
  "language_info": {
   "codemirror_mode": {
    "name": "ipython",
    "version": 2
   },
   "file_extension": ".py",
   "mimetype": "text/x-python",
   "name": "python",
   "nbconvert_exporter": "python",
   "pygments_lexer": "ipython2",
   "version": "2.7.6"
  }
 },
 "nbformat": 4,
 "nbformat_minor": 0
}